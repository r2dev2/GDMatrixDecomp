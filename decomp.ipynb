{
 "cells": [
  {
   "cell_type": "markdown",
   "metadata": {},
   "source": [
    "# Using Gradient Descent to Decompose Matrix\n",
    "\n",
    "Lets say u wanna decompose matrix A which is a MxN matrix into a MxZ matrix (B) * a ZxN matrix (C).\n",
    "\n",
    "I propose the following stupid algorithm for such a decomposition:\n",
    "\n",
    "1. create a nerual network which has two linear layers and is just input * B * C\n",
    "2. get training data of X = rand() and Y = AX\n",
    "3. train the BC nn on that training data using gradient descent\n",
    "4. bing bang boom BC=A"
   ]
  },
  {
   "cell_type": "code",
   "execution_count": 1,
   "metadata": {},
   "outputs": [],
   "source": [
    "import time\n",
    "import torch\n",
    "import torch.nn as nn\n",
    "import torch.optim as optim\n",
    "from torch.utils.data import Dataset, DataLoader\n",
    "import random as rng\n",
    "from tqdm.notebook import tqdm\n",
    "import matplotlib.pyplot as plt\n",
    "import numpy as np\n",
    "\n",
    "rng.seed(420)"
   ]
  },
  {
   "cell_type": "code",
   "execution_count": 2,
   "metadata": {},
   "outputs": [],
   "source": [
    "device = torch.device(\"cuda\" if torch.cuda.is_available() else \"cpu\")"
   ]
  },
  {
   "cell_type": "markdown",
   "metadata": {},
   "source": [
    "## Matrix to Decompose\n",
    "\n",
    "We will test this methodology on a randomly generated 3x5 matrix A. It will be decomposed into the product of a 3x6 matrix and a 6x5 matrix."
   ]
  },
  {
   "cell_type": "code",
   "execution_count": 3,
   "metadata": {},
   "outputs": [
    {
     "data": {
      "text/plain": [
       "(torch.Size([3, 5]),\n",
       " tensor([[ 0., 11.,  8., 12.,  3.],\n",
       "         [ 3.,  0., 16., 10., 15.],\n",
       "         [20.,  0., 19.,  4., 17.]]))"
      ]
     },
     "execution_count": 3,
     "metadata": {},
     "output_type": "execute_result"
    }
   ],
   "source": [
    "M = 3\n",
    "N = 5\n",
    "Z = 6\n",
    "A = torch.Tensor([[rng.randint(0, 20) for _ in range(N)] for _ in range(M)])\n",
    "A.size(), A"
   ]
  },
  {
   "cell_type": "markdown",
   "metadata": {},
   "source": [
    "## Dataset Generation\n",
    "\n",
    "Create train and test dataset with a random input and an output of A * the random input"
   ]
  },
  {
   "cell_type": "code",
   "execution_count": 4,
   "metadata": {},
   "outputs": [],
   "source": [
    "class RNGDataset(Dataset):\n",
    "    def __init__(self, A, length):\n",
    "        self._len = length\n",
    "        self._A = A\n",
    "\n",
    "    def __getitem__(self, _index):\n",
    "        _, N = self._A.size()\n",
    "        X = torch.rand(N)\n",
    "        Y = torch.matmul(A, X)\n",
    "        return X, Y\n",
    "\n",
    "    def __len__(self):\n",
    "        return self._len\n",
    "\n",
    "train_dataset = RNGDataset(A, int(1e4))\n",
    "test_dataset = RNGDataset(A, int(1e2))"
   ]
  },
  {
   "cell_type": "markdown",
   "metadata": {},
   "source": [
    "## Sanity Checks\n",
    "\n",
    "* small dataloader to verify that the data feeds through our model\n",
    "* assert that one of the weights is a MxZ matrix\n",
    "* assert that one of the weights is a ZxN matrix"
   ]
  },
  {
   "cell_type": "code",
   "execution_count": 5,
   "metadata": {},
   "outputs": [],
   "source": [
    "weight_dim_check_loader = DataLoader(dataset=test_dataset, batch_size=4, shuffle=False, num_workers=0)"
   ]
  },
  {
   "cell_type": "code",
   "execution_count": 6,
   "metadata": {},
   "outputs": [],
   "source": [
    "CLayer = nn.Linear(N, Z, bias=False)\n",
    "BLayer = nn.Linear(Z, M, bias=False)\n",
    "nn.init.kaiming_normal_(CLayer.weight)\n",
    "nn.init.kaiming_normal_(BLayer.weight)\n",
    "assert BLayer.weight.size() == torch.Size([M, Z])\n",
    "assert CLayer.weight.size() == torch.Size([Z, N])"
   ]
  },
  {
   "cell_type": "code",
   "execution_count": 7,
   "metadata": {},
   "outputs": [
    {
     "data": {
      "text/plain": [
       "torch.Size([4, 3])"
      ]
     },
     "execution_count": 7,
     "metadata": {},
     "output_type": "execute_result"
    }
   ],
   "source": [
    "model = nn.Sequential(CLayer, BLayer).to(device)\n",
    "\n",
    "model(next(iter(weight_dim_check_loader))[0].to(device)).size()"
   ]
  },
  {
   "cell_type": "markdown",
   "metadata": {},
   "source": [
    "## Training\n",
    "\n",
    "Now that we know all our matrix sizes are correct, we can start training the decomposition. We will use:\n",
    "\n",
    "* sgd of lr=.1, momentum=0\n",
    "* loss fn of MSELoss\n",
    "* train batch size of 256"
   ]
  },
  {
   "cell_type": "code",
   "execution_count": 8,
   "metadata": {},
   "outputs": [],
   "source": [
    "test_loader = DataLoader(dataset=test_dataset, batch_size=128, shuffle=False, num_workers=4)\n",
    "train_loader = DataLoader(dataset=train_dataset, batch_size=256, shuffle=True, num_workers=4)\n",
    "criterion = nn.MSELoss()\n",
    "optimizer = optim.SGD(model.parameters(), lr=.01, momentum=0)"
   ]
  },
  {
   "cell_type": "code",
   "execution_count": 9,
   "metadata": {},
   "outputs": [
    {
     "data": {
      "application/vnd.jupyter.widget-view+json": {
       "model_id": "da09fc0015e04a898b2983fd211e4d91",
       "version_major": 2,
       "version_minor": 0
      },
      "text/plain": [
       "  0%|          | 0/50 [00:00<?, ?it/s]"
      ]
     },
     "metadata": {},
     "output_type": "display_data"
    }
   ],
   "source": [
    "train_losses = []\n",
    "test_losses = []\n",
    "epochs = 50\n",
    "\n",
    "for epoch in tqdm(range(epochs)):\n",
    "    model.train()\n",
    "\n",
    "    running_loss = []\n",
    "    beg = time.time()\n",
    "    for i, (data, target) in enumerate(weight_dim_check_loader):\n",
    "        optimizer.zero_grad()\n",
    "        data, target = data.to(device), target.to(device)\n",
    "        y_pred = model(data)\n",
    "        loss = criterion(y_pred, target)\n",
    "        running_loss.append(loss.detach().item())\n",
    "        if torch.isnan(loss):\n",
    "            raise ValueError(\"NaN loss\")\n",
    "\n",
    "        loss.backward()\n",
    "        optimizer.step()\n",
    "        # print(f\"Progress: {i}/{len(train_loader)}, {int(time.time() - beg)}s\", end=\"\\r\", flush=True)\n",
    "    train_losses.append(sum(running_loss) / len(running_loss))\n",
    "    fmt_args = (epoch, train_losses[-1])\n",
    "    # print(\"[TRAIN] epoch: %5d, loss: %.7f\" % fmt_args, end=\"    \")\n",
    "\n",
    "    with torch.no_grad():\n",
    "        model.eval()\n",
    "\n",
    "        running_loss = []\n",
    "        for data, target in test_loader:\n",
    "            optimizer.zero_grad()\n",
    "            data, target = data.to(device), target.to(device)\n",
    "            y_pred = model(data)\n",
    "            loss = criterion(y_pred, target)\n",
    "            running_loss.append(loss.detach().item())\n",
    "\n",
    "        test_losses.append(sum(running_loss) / len(running_loss))\n",
    "        fmt_args = (epoch, test_losses[-1], int(time.time() - beg))\n",
    "        # print(\"[TEST] epoch: %5d, loss: %.7f %ds\" % fmt_args)\n"
   ]
  },
  {
   "cell_type": "code",
   "execution_count": 10,
   "metadata": {},
   "outputs": [
    {
     "data": {
      "image/png": "[encoded data removed]",
      "text/plain": [
       "<Figure size 432x288 with 1 Axes>"
      ]
     },
     "metadata": {
      "needs_background": "light"
     },
     "output_type": "display_data"
    }
   ],
   "source": [
    "train_losses = np.array(train_losses)\n",
    "test_losses = np.array(test_losses)\n",
    "epochs = np.array([*range(1, len(train_losses) + 1)])\n",
    "plt.plot(epochs, train_losses)\n",
    "plt.plot(epochs, test_losses)\n",
    "plt.legend([\"Train Loss\", \"Test Loss\"])\n",
    "plt.yscale(\"log\")\n",
    "plt.xlabel(\"Epoch\")\n",
    "plt.ylabel(\"MSE Loss\")\n",
    "plt.title(\"Loss vs Epoch\")\n",
    "plt.show()"
   ]
  },
  {
   "cell_type": "markdown",
   "metadata": {},
   "source": [
    "## Evaluation\n",
    "\n",
    "We will now test how close our decomposition of B * C is to the original matrix A"
   ]
  },
  {
   "cell_type": "code",
   "execution_count": 11,
   "metadata": {},
   "outputs": [
    {
     "data": {
      "text/plain": [
       "(tensor([[ 0., 11.,  8., 12.,  3.],\n",
       "         [ 3.,  0., 16., 10., 15.],\n",
       "         [20.,  0., 19.,  4., 17.]]),\n",
       " tensor([[ 1.3105e-02,  1.0979e+01,  7.9919e+00,  1.2026e+01,  2.9942e+00],\n",
       "         [ 2.9845e+00,  2.4551e-02,  1.6009e+01,  9.9692e+00,  1.5007e+01],\n",
       "         [ 2.0007e+01, -1.0916e-02,  1.8996e+01,  4.0137e+00,  1.6997e+01]]),\n",
       " tensor([[ 0., 11.,  8., 12.,  3.],\n",
       "         [ 3.,  0., 16., 10., 15.],\n",
       "         [20., -0., 19.,  4., 17.]]),\n",
       " True)"
      ]
     },
     "execution_count": 11,
     "metadata": {},
     "output_type": "execute_result"
    }
   ],
   "source": [
    "with torch.no_grad():\n",
    "    B = BLayer.weight.to(\"cpu\")\n",
    "    C = CLayer.weight.to(\"cpu\")\n",
    "    A_new = torch.matmul(B, C)\n",
    "A, A_new, torch.round(A_new), all(torch.flatten(A == torch.round(A_new)))"
   ]
  },
  {
   "cell_type": "code",
   "execution_count": 12,
   "metadata": {},
   "outputs": [
    {
     "data": {
      "text/plain": [
       "(tensor([[ 1.3164,  1.0516, -0.4988,  0.7758,  1.9511,  2.6335],\n",
       "         [ 1.3742,  0.0902, -1.1224,  2.8127,  2.8292, -1.0692],\n",
       "         [ 1.4569,  3.1485, -2.7238, -0.2630,  2.2019, -2.5042]]),\n",
       " tensor([[ 0.8379,  0.6756,  1.3946,  1.4864,  0.9122],\n",
       "         [ 2.3855,  1.4048,  1.1132,  0.8053,  1.2358],\n",
       "         [-1.8062,  0.1746, -2.3772, -0.1622, -0.7896],\n",
       "         [-1.5126, -0.1016,  1.2604,  1.7130,  1.5233],\n",
       "         [ 0.6890,  0.8327,  2.4645,  1.6639,  2.2179],\n",
       "         [-1.7734,  2.7166, -0.7544,  1.7340, -2.0540]]))"
      ]
     },
     "execution_count": 12,
     "metadata": {},
     "output_type": "execute_result"
    }
   ],
   "source": [
    "B, C"
   ]
  },
  {
   "cell_type": "markdown",
   "metadata": {},
   "source": [
    "## Results\n",
    "\n",
    "The decomposition of A = BC was fairly accurate. All the rounded values of BC equal the values of the original matrix A. Also, the unrounded values are fairly close to the values of A."
   ]
  }
 ],
 "metadata": {
  "kernelspec": {
   "display_name": "Python 3",
   "language": "python",
   "name": "python3"
  },
  "language_info": {
   "codemirror_mode": {
    "name": "ipython",
    "version": 3
   },
   "file_extension": ".py",
   "mimetype": "text/x-python",
   "name": "python",
   "nbconvert_exporter": "python",
   "pygments_lexer": "ipython3",
   "version": "3.10.8"
  },
  "orig_nbformat": 4,
  "vscode": {
   "interpreter": {
    "hash": "767d51c1340bd893661ea55ea3124f6de3c7a262a8b4abca0554b478b1e2ff90"
   }
  }
 },
 "nbformat": 4,
 "nbformat_minor": 2
}
